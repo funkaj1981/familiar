{
 "cells": [
  {
   "cell_type": "markdown",
   "metadata": {},
   "source": [
    "# Familiar: A Study In Data Analysis\n",
    "\n",
    "#### Welcome to Familiar, a startup in the new market of blood transfusion! You've joined the team because you appreciate the flexible hours and extremely intelligent team, but the overeager doorman welcoming you into the office is a nice way to start your workday (well, work-evening).\n",
    "\n",
    "#### Familiar has fallen into some tough times lately, so you're hoping to help them make some insights about their product and help move the needle (so to speak)."
   ]
  },
  {
   "cell_type": "markdown",
   "metadata": {},
   "source": [
    "\n",
    "We're going to start by including a data interface that a previous software engineer wrote for you, it's aptly titled `familiar`, so just import that.\n"
   ]
  },
  {
   "cell_type": "code",
   "execution_count": 33,
   "metadata": {},
   "outputs": [],
   "source": [
    "import familiar"
   ]
  },
  {
   "cell_type": "markdown",
   "metadata": {},
   "source": [
    "\n",
    "Perfect, now the first thing we want to show is that our most basic package, the Vein Pack, actually has a significant impact on the subscribers. It would be a marketing goldmine if we can show that subscribers to the Vein Pack live longer than other people.\n",
    "\n",
    "Lifespans of Vein Pack users are returned by the function `lifespans(package='vein')`, which is part of the `familiar` module. \n",
    "\n",
    "Call that function and save the data into a variable called `vein_pack_lifespans`.\n"
   ]
  },
  {
   "cell_type": "code",
   "execution_count": 34,
   "metadata": {},
   "outputs": [
    {
     "data": {
      "text/plain": [
       "[76.93767431371617,\n",
       " 75.99335913014681,\n",
       " 74.79815012354048,\n",
       " 74.50202147158551,\n",
       " 77.48888897587436,\n",
       " 72.14256573154043,\n",
       " 75.99303167191182,\n",
       " 76.34155048095228,\n",
       " 77.48475562999882,\n",
       " 76.5321014800867,\n",
       " 76.25508955276418,\n",
       " 77.58398316566651,\n",
       " 77.04737034962294,\n",
       " 72.87475174594711,\n",
       " 77.43504547002844,\n",
       " 77.4923414107892,\n",
       " 78.32672046879952,\n",
       " 73.34370246887067,\n",
       " 79.96915765236346,\n",
       " 74.83800583300325]"
      ]
     },
     "execution_count": 34,
     "metadata": {},
     "output_type": "execute_result"
    }
   ],
   "source": [
    "vein_pack_lifespans = familiar.lifespans(package='vein')\n",
    "vein_pack_lifespans"
   ]
  },
  {
   "cell_type": "markdown",
   "metadata": {},
   "source": [
    "\n",
    "We'd like to find out if the average lifespan of a Vein Pack subscriber is significantly different from the average life expectancy of `71` years.\n",
    "\n",
    "Import the statistical test we would use to determine if a sample comes from a population that has a given mean from `scipy.stats`.\n"
   ]
  },
  {
   "cell_type": "code",
   "execution_count": 6,
   "metadata": {},
   "outputs": [],
   "source": [
    "from scipy.stats import ttest_1samp"
   ]
  },
  {
   "cell_type": "markdown",
   "metadata": {},
   "source": [
    "\n",
    "Now use the 1-Sample T-Test to compare `vein_pack_lifespans` to the average life expectancy `71`. Save the result into a variable called `vein_pack_test`.\n"
   ]
  },
  {
   "cell_type": "code",
   "execution_count": 10,
   "metadata": {},
   "outputs": [
    {
     "name": "stdout",
     "output_type": "stream",
     "text": [
      "Ttest_1sampResult(statistic=11.958665180208271, pvalue=2.7463117986584107e-10)\n",
      "2.7463117986584107e-10\n"
     ]
    }
   ],
   "source": [
    "vein_pack_test = ttest_1samp(\n",
    "    vein_pack_lifespans, 71)\n",
    "print(vein_pack_test)\n",
    "print(vein_pack_test[1])\n",
    "vein_pack_test_pval = vein_pack_test[1]"
   ]
  },
  {
   "cell_type": "markdown",
   "metadata": {},
   "source": [
    "\n",
    "Let's check if the results are significant! Check the `pvalue` of `vein_pack_test`. If it's less than 0.05, we've got significance!\n"
   ]
  },
  {
   "cell_type": "markdown",
   "metadata": {},
   "source": [
    "\n",
    "We want to present this information to the CEO, Vlad, of this incredible finding. Let's print some information out! If the test's p-value is less than 0.05, `print` \"The Vein Pack Is Proven To Make You Live Longer!\". Otherwise `print` \"The Vein Pack Is Probably Good For You Somehow!\"\n"
   ]
  },
  {
   "cell_type": "code",
   "execution_count": 11,
   "metadata": {},
   "outputs": [
    {
     "name": "stdout",
     "output_type": "stream",
     "text": [
      "Our p-value of 2.74631179866e-10 is significant. The Vein Pack is proven to make you live longer!\n"
     ]
    }
   ],
   "source": [
    "def significance(pvalue):\n",
    "  if pvalue < 0.05:\n",
    "    print('Our p-value of {} is significant. The Vein Pack is proven to make you live longer!'.format(pvalue))\n",
    "  else:\n",
    "    print('The Vein Pack is probably good for you somehow!')\n",
    "\n",
    "significance(vein_pack_test_pval)"
   ]
  },
  {
   "cell_type": "markdown",
   "metadata": {},
   "source": [
    "\n",
    "In order to differentiate Familiar's different product lines, we'd like to compare this lifespan data between our different packages. Our next step up from the Vein Pack is the Artery Pack. Let's get the lifespans of Artery Pack subscribers using the same method, called with `package='artery'` instead. Save the value into a variable called `artery_pack_lifespans`.\n"
   ]
  },
  {
   "cell_type": "code",
   "execution_count": 35,
   "metadata": {},
   "outputs": [
    {
     "data": {
      "text/plain": [
       "[76.33537008426835,\n",
       " 76.92308231559062,\n",
       " 75.9524416448778,\n",
       " 74.5449834807203,\n",
       " 76.4045042754472,\n",
       " 73.07924888636576,\n",
       " 77.02354461052992,\n",
       " 74.1174204200688,\n",
       " 77.38650656208344,\n",
       " 73.04476583718993,\n",
       " 74.96311850866167,\n",
       " 73.31954301933486,\n",
       " 75.85740137696862,\n",
       " 76.15265351351255,\n",
       " 73.3551028632267,\n",
       " 73.90221256458788,\n",
       " 73.77121195092475,\n",
       " 68.31489830285578,\n",
       " 74.63975717775328,\n",
       " 78.38547730843979]"
      ]
     },
     "execution_count": 35,
     "metadata": {},
     "output_type": "execute_result"
    }
   ],
   "source": [
    "artery_pack_lifespans = familiar.lifespans(package='artery')\n",
    "artery_pack_lifespans"
   ]
  },
  {
   "cell_type": "markdown",
   "metadata": {},
   "source": [
    "\n",
    "Now we want to show that the subscribers to the Artery Pack experience a significant improvement even beyond what a Vein Pack subscriber's benefits. Import the 2-Sample T-Test and we'll use that to see if there is a significant difference between the two subscriptions.\n"
   ]
  },
  {
   "cell_type": "code",
   "execution_count": 13,
   "metadata": {},
   "outputs": [],
   "source": [
    "from scipy.stats import ttest_ind"
   ]
  },
  {
   "cell_type": "markdown",
   "metadata": {},
   "source": [
    "\n",
    "Okay let's run the 2-Sample test! Save the results into a variable named `package_comparison_results`.\n"
   ]
  },
  {
   "cell_type": "code",
   "execution_count": 15,
   "metadata": {},
   "outputs": [
    {
     "name": "stdout",
     "output_type": "stream",
     "text": [
      "Ttest_indResult(statistic=1.9722687784695117, pvalue=0.05588883079070819)\n",
      "0.05588883079070819\n"
     ]
    }
   ],
   "source": [
    "package_comparison_results = ttest_ind(\n",
    "    vein_pack_lifespans, \n",
    "    artery_pack_lifespans)\n",
    "print(package_comparison_results)\n",
    "print(package_comparison_results[1])\n",
    "pack_comparison_pval = package_comparison_results[1]"
   ]
  },
  {
   "cell_type": "markdown",
   "metadata": {},
   "source": [
    "\n",
    "Let's see the results! If the p-value from our experiment is less than 0.05, the results are significant and we should print out \"the Artery Package guarantees even stronger results!\". Otherwise we should print out \"the Artery Package is also a great product!\"\n"
   ]
  },
  {
   "cell_type": "code",
   "execution_count": 16,
   "metadata": {},
   "outputs": [
    {
     "name": "stdout",
     "output_type": "stream",
     "text": [
      "The Artery Package is also a great product!\n"
     ]
    }
   ],
   "source": [
    "def comparison_significance(pvalue):\n",
    "  if pvalue < 0.05:\n",
    "    print('The Artery Package guarantees even stronger results!')\n",
    "  else: \n",
    "    print('The Artery Package is also a great product!')\n",
    "    \n",
    "comparison_significance(pack_comparison_pval)"
   ]
  },
  {
   "cell_type": "markdown",
   "metadata": {},
   "source": [
    "\n",
    "Well, shame that it's not significantly better, but maybe there's a way to demonstrate the benefits of the Artery Package yet.\n"
   ]
  },
  {
   "cell_type": "code",
   "execution_count": 17,
   "metadata": {},
   "outputs": [
    {
     "name": "stdout",
     "output_type": "stream",
     "text": [
      "Ttest_1sampResult(statistic=7.833472725893541, pvalue=2.2873521532547355e-07)\n"
     ]
    }
   ],
   "source": [
    "artery_pack_test = ttest_1samp(\n",
    "    artery_pack_lifespans, 71)\n",
    "print(artery_pack_test)"
   ]
  },
  {
   "cell_type": "markdown",
   "metadata": {},
   "source": [
    "\n",
    "If your lifespan isn't significantly increased by signing up for the Artery Package, maybe we can make some other claim about the benefits of the package. To that end, we've sent out a survey collecting the iron counts for our subscribers, and filtered that data into \"low\", \"normal\", and \"high\".\n",
    "\n",
    "We received 200 responses from our Vein Package subscribers. 70% of them had low iron counts, 20% had normal, and 10% of them have high iron counts.\n",
    "\n",
    "We were only able to get 145 responses from our Artery Package subscribers, but only 20% of them had low iron counts. 60% had normal, and 20% have high iron counts."
   ]
  },
  {
   "cell_type": "markdown",
   "metadata": {},
   "source": [
    "\n",
    "The data from the survey has been collected and formatted into a contingency table. You can access that data from the function `familiar.iron_counts_for_package()`. Save the survey results into a variable called `iron_contingency_table`.\n"
   ]
  },
  {
   "cell_type": "code",
   "execution_count": 37,
   "metadata": {},
   "outputs": [
    {
     "name": "stdout",
     "output_type": "stream",
     "text": [
      "[[140, 29], [40, 87], [20, 29]]\n"
     ]
    }
   ],
   "source": [
    "iron_contingency_table = familiar.iron_counts_for_package()\n",
    "print(iron_contingency_table)"
   ]
  },
  {
   "cell_type": "markdown",
   "metadata": {},
   "source": [
    "We also want to display the raw iron counts contingency table. This way we know which categories the instances in our `iron_contingency_table` list correspond to. We can do this by calling the function `raw_contingency_table()`."
   ]
  },
  {
   "cell_type": "code",
   "execution_count": 40,
   "metadata": {},
   "outputs": [
    {
     "name": "stdout",
     "output_type": "stream",
     "text": [
      "\n",
      "            vein     |  artery\n",
      "    ----+------------+------------\n",
      "     low|200 * 0.7   |145 * 0.2\n",
      "  normal|200 * 0.2   |145 * 0.2\n",
      "    high|200 * 0.1   |145 * 0.6\n",
      "  \n"
     ]
    }
   ],
   "source": [
    "familiar.raw_contingency_table()"
   ]
  },
  {
   "cell_type": "markdown",
   "metadata": {},
   "source": [
    "\n",
    "We want to be able to tell if what seems like a higher number of our Artery Package subscribers is a significant difference from what was reported by Vein Package subscribers. Import the Chi-Squared test so that we can find out.\n"
   ]
  },
  {
   "cell_type": "code",
   "execution_count": 41,
   "metadata": {},
   "outputs": [],
   "source": [
    "from scipy.stats import chi2_contingency"
   ]
  },
  {
   "cell_type": "markdown",
   "metadata": {},
   "source": [
    "\n",
    "Run the Chi-Squared test on the `iron_contingency_table` and save the p-value in a variable called `iron_pvalue`. Remember that this test returns four things: the test statistic, the p-value, the number of degrees of freedom, and the expected frequencies.\n"
   ]
  },
  {
   "cell_type": "code",
   "execution_count": 42,
   "metadata": {},
   "outputs": [
    {
     "name": "stdout",
     "output_type": "stream",
     "text": [
      "(85.35320870182859, 2.9227133549883315e-19, 2L, array([[97.97101449, 71.02898551],\n",
      "       [73.62318841, 53.37681159],\n",
      "       [28.4057971 , 20.5942029 ]]))\n",
      "2.9227133549883315e-19\n"
     ]
    }
   ],
   "source": [
    "iron_pvalue = chi2_contingency(\n",
    "    iron_contingency_table)\n",
    "print(iron_pvalue)\n",
    "print(iron_pvalue[1])"
   ]
  },
  {
   "cell_type": "markdown",
   "metadata": {},
   "source": [
    "\n",
    "Here's the big moment: if the `iron_pvalue` is less than `0.05`, print out \"The Artery Package Is Proven To Make You Healthier!\" otherwise we'll have to use our other marketing copy: \"While We Can't Say The Artery Package Will Help You, I Bet It's Nice!\"\n"
   ]
  },
  {
   "cell_type": "code",
   "execution_count": 43,
   "metadata": {},
   "outputs": [
    {
     "name": "stdout",
     "output_type": "stream",
     "text": [
      "The Artery Package is proven to make you healthier!\n"
     ]
    }
   ],
   "source": [
    "if iron_pvalue[1] < 0.05:\n",
    "  print('The Artery Package is proven to make you healthier!')\n",
    "else: \n",
    "  print('While we can\\'t say the artery package will help you, I bet it\\'s nice!')"
   ]
  },
  {
   "cell_type": "markdown",
   "metadata": {},
   "source": [
    "\n",
    "Fantastic! With proven benefits to both of our product lines, we can definitely ramp up our marketing and sales. Look out for a `Familiar` face in drug stores everywhere.\n"
   ]
  }
 ],
 "metadata": {
  "kernelspec": {
   "display_name": "Python 2",
   "language": "python",
   "name": "python2"
  },
  "language_info": {
   "codemirror_mode": {
    "name": "ipython",
    "version": 2
   },
   "file_extension": ".py",
   "mimetype": "text/x-python",
   "name": "python",
   "nbconvert_exporter": "python",
   "pygments_lexer": "ipython2",
   "version": "2.7.14"
  }
 },
 "nbformat": 4,
 "nbformat_minor": 2
}
